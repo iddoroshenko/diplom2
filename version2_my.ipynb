{
 "cells": [
  {
   "cell_type": "code",
   "execution_count": 1,
   "metadata": {},
   "outputs": [],
   "source": [
    "import nanopq\n",
    "import numpy as np\n",
    "import networkx as nx\n",
    "from collections import defaultdict\n",
    "from tqdm import tqdm\n",
    "from sklearn.neighbors import NearestNeighbors\n",
    "from sklearn.datasets import make_blobs\n",
    "import sys\n",
    "import faiss"
   ]
  },
  {
   "cell_type": "code",
   "execution_count": 2,
   "metadata": {},
   "outputs": [],
   "source": [
    "N, D = 1000000, 256\n",
    "\n",
    "CLUSTERS_NUMBER = 10000  # число групп\n",
    "\n",
    "np.random.seed(0)\n",
    "centers = np.random.randint(-2000, 2000, size=(CLUSTERS_NUMBER, D))  # создает K центров D-размерности, расположенных случайно\n",
    "\n",
    "vectors, y = make_blobs(n_samples=N, n_features=D, centers=centers, random_state=0)\n",
    "vectors = vectors.astype(np.float32)\n",
    "\n",
    "vectors_base, train_y = vectors[:N-10000], y[:N-10000]\n",
    "queries, test_y = vectors[N-10000:], y[N-10000:]"
   ]
  },
  {
   "cell_type": "code",
   "execution_count": 3,
   "metadata": {},
   "outputs": [
    {
     "name": "stderr",
     "output_type": "stream",
     "text": [
      "Loading sift...done\n"
     ]
    }
   ],
   "source": [
    "N, D = 1000000, 128\n",
    "\n",
    "def ivecs_read(fname):\n",
    "    a = np.fromfile(fname, dtype='int32')\n",
    "    d = a[0]\n",
    "    return a.reshape(-1, d + 1)[:, 1:].copy()\n",
    "\n",
    "\n",
    "def fvecs_read(fname):\n",
    "    return ivecs_read(fname).view('float32')\n",
    "\n",
    "def load_sift():\n",
    "    print(\"Loading sift...\", end='', file=sys.stderr)\n",
    "    xb = fvecs_read(\"sift/sift_base.fvecs\")\n",
    "    xq = fvecs_read(\"sift/sift_query.fvecs\")\n",
    "    gt = ivecs_read(\"sift/sift_groundtruth.ivecs\")\n",
    "    print(\"done\", file=sys.stderr)\n",
    "\n",
    "    return xb, xq, gt\n",
    "\n",
    "def load_gist():\n",
    "    print(\"Loading gist...\", end='', file=sys.stderr)\n",
    "    xb = fvecs_read(\"gist/gist_base.fvecs\")\n",
    "    xq = fvecs_read(\"gist/gist_query.fvecs\")\n",
    "    gt = ivecs_read(\"gist/gist_groundtruth.ivecs\")\n",
    "    print(\"done\", file=sys.stderr)\n",
    "\n",
    "    return xb, xq, gt\n",
    "\n",
    "\n",
    "vectors_base, queries, gt = load_sift()"
   ]
  },
  {
   "cell_type": "code",
   "execution_count": 16,
   "metadata": {},
   "outputs": [
    {
     "name": "stderr",
     "output_type": "stream",
     "text": [
      "100%|██████████| 990000/990000 [00:46<00:00, 21211.91it/s]\n"
     ]
    }
   ],
   "source": [
    "   \n",
    "def generate_graph(vectors, k_nearest):\n",
    "    index = faiss.IndexFlatL2(vectors.shape[1])  # длина вектора\n",
    "    index.add(vectors.astype('float32'))\n",
    "    _, indices = index.search(vectors.astype('float32'), k_nearest)\n",
    "    G = nx.Graph()\n",
    "    for i in tqdm(range(len(vectors)), total=len(vectors)):\n",
    "        for index in indices[i]:\n",
    "            if index != i:\n",
    "                G.add_edge(i, index)\n",
    "    return G\n",
    "\n",
    "\n",
    "k = 35    # количество ближайших соседей для связывания вершин\n",
    "\n",
    "\n",
    "# генерируем граф\n",
    "G = generate_graph(vectors_base, k)\n"
   ]
  },
  {
   "cell_type": "code",
   "execution_count": 22,
   "metadata": {},
   "outputs": [],
   "source": [
    "pq = nanopq.PQ(M=2, Ks=128, verbose=False)\n",
    "\n",
    "pq.fit(vectors_base)\n",
    "X_code = pq.encode(vectors_base)"
   ]
  },
  {
   "cell_type": "code",
   "execution_count": 23,
   "metadata": {},
   "outputs": [],
   "source": [
    "indexes_map = defaultdict(list)\n",
    "\n",
    "for i in range(len(X_code)):\n",
    "    indexes_map[(X_code[i][0], X_code[i][1])].append(i)"
   ]
  },
  {
   "cell_type": "code",
   "execution_count": 24,
   "metadata": {},
   "outputs": [],
   "source": [
    "def find_nearest(G, query, indexes_map=indexes_map, pq=pq, vectors=vectors_base):\n",
    "    query_mi = pq.encode(query)\n",
    "    query_mi_neighbours = indexes_map[(query_mi[0][0], query_mi[0][1])]\n",
    "    if len(query_mi_neighbours) > 0:\n",
    "        best_node = query_mi_neighbours[0]\n",
    "    else:\n",
    "        best_node = np.random.choice(G.nodes())\n",
    "    best_dist = np.linalg.norm(vectors[best_node] - query)\n",
    "    queue = []\n",
    "    queue.append(best_node)\n",
    "    was = set()\n",
    "    was.add(best_node)\n",
    "    while len(queue) > 0:\n",
    "        node = queue.pop(0)\n",
    "        for edge in G.edges(node):\n",
    "            dst = edge[1]\n",
    "            if dst in was:\n",
    "                continue\n",
    "            was.add(dst)\n",
    "            dist = np.linalg.norm(vectors[dst] - query)\n",
    "            if dist < best_dist:\n",
    "                queue.append(dst)\n",
    "                best_node = dst\n",
    "                best_dist = dist\n",
    "    return best_dist, best_node\n"
   ]
  },
  {
   "cell_type": "code",
   "execution_count": 10,
   "metadata": {},
   "outputs": [],
   "source": [
    "def find_nearest_fi(G, query, indexes_map=indexes_map, pq=pq, vectors=vectors_base):\n",
    "    query_mi = pq.encode(query)\n",
    "    query_mi_neighbours = indexes_map[(query_mi[0][0], query_mi[0][1])]\n",
    "    if len(query_mi_neighbours) > 0:\n",
    "        best_node = query_mi_neighbours[0]\n",
    "    else:\n",
    "        best_node = np.random.choice(G.nodes())\n",
    "    best_dist = np.linalg.norm(vectors[best_node] - query)\n",
    "    was = set()\n",
    "    was.add(best_node)\n",
    "    while True:\n",
    "        node = best_node\n",
    "        edges = list(G.edges(node))\n",
    "        for edge_id in range(len(edges)-1, 0, -1):\n",
    "            edge = edges[edge_id]\n",
    "            dst = edge[1]\n",
    "            if dst in was:\n",
    "                continue\n",
    "            was.add(node)\n",
    "            dist = np.linalg.norm(vectors[dst] - query)\n",
    "            if dist < best_dist:\n",
    "                best_node = dst\n",
    "                best_dist = dist\n",
    "                break\n",
    "        if best_node == node:\n",
    "            break\n",
    "    return best_dist, best_node\n"
   ]
  },
  {
   "cell_type": "code",
   "execution_count": 11,
   "metadata": {},
   "outputs": [],
   "source": [
    "def find_nearest_v2(G, query, indexes_map=indexes_map, pq=pq, vectors=vectors_base):\n",
    "    query_mi = pq.encode(query)\n",
    "    query_mi_neighbours = indexes_map[(query_mi[0][0], query_mi[0][1])]\n",
    "    if len(query_mi_neighbours) > 0:\n",
    "        best_node = query_mi_neighbours[0]\n",
    "        best_dist = np.linalg.norm(vectors[best_node] - query)\n",
    "        for best_candidate in query_mi_neighbours:\n",
    "            dist = np.linalg.norm(vectors[best_candidate] - query)\n",
    "            if dist < best_dist:\n",
    "                best_node = best_candidate\n",
    "                best_dist = dist\n",
    "    else:\n",
    "        best_node = np.random.choice(G.nodes())\n",
    "        best_dist = np.linalg.norm(vectors[best_node] - query)\n",
    "    queue = []\n",
    "    queue.append(best_node)\n",
    "    was = set()\n",
    "    was.add(best_node)\n",
    "    while len(queue) > 0:\n",
    "        node = queue.pop(0)\n",
    "        for edge in G.edges(node):\n",
    "            dst = edge[1]\n",
    "            if dst in was:\n",
    "                continue\n",
    "            was.add(node)\n",
    "            dist = np.linalg.norm(vectors[dst] - query)\n",
    "            if dist < best_dist:\n",
    "                queue.append(dst)\n",
    "                best_node = dst\n",
    "                best_dist = dist\n",
    "    return best_dist, best_node\n"
   ]
  },
  {
   "cell_type": "code",
   "execution_count": 25,
   "metadata": {},
   "outputs": [
    {
     "name": "stdout",
     "output_type": "stream",
     "text": [
      "0\n",
      "990000\n"
     ]
    }
   ],
   "source": [
    "index = faiss.IndexHNSWFlat(D, 32)\n",
    "index.hnsw.efConstruction = 40\n",
    "\n",
    "index.train(vectors_base)\n",
    "print(index.ntotal)   # 0\n",
    "index.add(vectors_base)\n",
    "print(index.ntotal)   # 1000000"
   ]
  },
  {
   "cell_type": "code",
   "execution_count": 28,
   "metadata": {},
   "outputs": [
    {
     "name": "stderr",
     "output_type": "stream",
     "text": [
      "100%|██████████| 10000/10000 [00:03<00:00, 2812.09it/s]\n"
     ]
    },
    {
     "name": "stdout",
     "output_type": "stream",
     "text": [
      "my time: 3.5575976371765137\n",
      "hnsw time: 8.984891414642334\n",
      "952 5764 3284\n",
      "7017 9666\n"
     ]
    }
   ],
   "source": [
    "import time\n",
    "\n",
    "dist_better_my = 0\n",
    "dist_better_hnsw = 0\n",
    "dist_equal = 0\n",
    "\n",
    "gt_good_my = 0\n",
    "gt_good_hnsw = 0\n",
    "\n",
    "result_my = []\n",
    "result_hnsw = []\n",
    "\n",
    "start = time.time()\n",
    "\n",
    "was = defaultdict(int)\n",
    "\n",
    "for test_number in tqdm(range(len(queries))):\n",
    "    d1, i1 = find_nearest(G, np.array([queries[test_number]]))\n",
    "    result_my.append([d1, i1])\n",
    "\n",
    "end = time.time()\n",
    "\n",
    "print(\"my time:\", end-start)\n",
    "start = time.time()\n",
    "for test_number in range(len(queries)):\n",
    "    d2, i2 = index.search(np.array([queries[test_number]]), 1)\n",
    "    d2 = np.linalg.norm(vectors_base[i2[0][0]] - queries[test_number])\n",
    "    result_hnsw.append([d2, i2[0][0]])\n",
    "end = time.time()\n",
    "print(\"hnsw time:\", end-start)\n",
    "\n",
    "for test_number in range(len(queries)):\n",
    "    d1, i1 = result_my[test_number][0], result_my[test_number][1]\n",
    "    gt_good_my += test_y[test_number] == train_y[i1]\n",
    "    \n",
    "    d2, i2 = result_hnsw[test_number][0], result_hnsw[test_number][1]\n",
    "    gt_good_hnsw += test_y[test_number] == train_y[i2]\n",
    "    \n",
    "    dist_better_my += d1 < d2\n",
    "    dist_equal += d1 == d2\n",
    "    dist_better_hnsw += d1 > d2\n",
    "print(dist_better_my, dist_equal, dist_better_hnsw)\n",
    "print(gt_good_my, gt_good_hnsw)"
   ]
  },
  {
   "cell_type": "code",
   "execution_count": 13,
   "metadata": {},
   "outputs": [
    {
     "data": {
      "text/plain": [
       "6973"
      ]
     },
     "execution_count": 13,
     "metadata": {},
     "output_type": "execute_result"
    }
   ],
   "source": [
    "test_y[0]"
   ]
  },
  {
   "cell_type": "code",
   "execution_count": null,
   "metadata": {},
   "outputs": [],
   "source": []
  },
  {
   "cell_type": "markdown",
   "metadata": {},
   "source": [
    "my data\n",
    "\n",
    "base\n",
    "\n",
    "my time: 3.3900723457336426\n",
    "\n",
    "hnsw time: 2.715017557144165\n",
    "\n",
    "895 6261 2844\n",
    "\n",
    "7340 9705"
   ]
  },
  {
   "cell_type": "code",
   "execution_count": 164,
   "metadata": {},
   "outputs": [
    {
     "name": "stdout",
     "output_type": "stream",
     "text": [
      "(173.01733, 337194)\n",
      "4490\n",
      "[  4490   4457 440896 105025  30046 214449 214475 234950 337194 566609\n",
      " 554601 559990 497354 337027 306259  59773 365266 776961 261517  30205\n",
      " 498443 104882 293784 787655 187642 161744  94526 290612 190535 497211\n",
      " 104971 554692 321611 554617 523702  99066 151645 501915 710368 525244\n",
      " 261426 570662  94528 114300 278717 190529 366228 337168 365353 312454\n",
      " 776967 825736 563905 547063 357803  51303 122700 805687 776965 152427\n",
      " 498491 869260 124074 106313 534926  42882 337012 122254 494271 825636\n",
      "  94532 151174 428246 790898  51399 365529 674780 365285 560050  52746\n",
      " 526223 295102 122033 292386 151148 337470 689876 776959 385048 302199\n",
      " 525423 160586 427618 852710 152142 905096  90283 571084 305080 114777]\n"
     ]
    }
   ],
   "source": [
    "T = 21\n",
    "print(find_nearest(G, np.array([queries[T]])))\n",
    "print(index.search(np.array([queries[T]]), 1)[1][0][0])\n",
    "print(gt[T])"
   ]
  },
  {
   "cell_type": "code",
   "execution_count": 165,
   "metadata": {},
   "outputs": [
    {
     "data": {
      "text/plain": [
       "array([[85,  9]], dtype=uint8)"
      ]
     },
     "execution_count": 165,
     "metadata": {},
     "output_type": "execute_result"
    }
   ],
   "source": [
    "pq.encode(np.array([queries[T]]))\n"
   ]
  },
  {
   "cell_type": "code",
   "execution_count": 166,
   "metadata": {},
   "outputs": [
    {
     "data": {
      "text/plain": [
       "array([[85,  9]], dtype=uint8)"
      ]
     },
     "execution_count": 166,
     "metadata": {},
     "output_type": "execute_result"
    }
   ],
   "source": [
    "pq.encode(np.array([vectors_base[337194]]))\n"
   ]
  },
  {
   "cell_type": "code",
   "execution_count": 167,
   "metadata": {},
   "outputs": [
    {
     "data": {
      "text/plain": [
       "array([[24,  9]], dtype=uint8)"
      ]
     },
     "execution_count": 167,
     "metadata": {},
     "output_type": "execute_result"
    }
   ],
   "source": [
    "pq.encode(np.array([vectors_base[4490]]))\n"
   ]
  },
  {
   "cell_type": "code",
   "execution_count": null,
   "metadata": {},
   "outputs": [],
   "source": []
  }
 ],
 "metadata": {
  "kernelspec": {
   "display_name": "Python 3",
   "language": "python",
   "name": "python3"
  },
  "language_info": {
   "codemirror_mode": {
    "name": "ipython",
    "version": 3
   },
   "file_extension": ".py",
   "mimetype": "text/x-python",
   "name": "python",
   "nbconvert_exporter": "python",
   "pygments_lexer": "ipython3",
   "version": "3.11.9"
  }
 },
 "nbformat": 4,
 "nbformat_minor": 2
}
