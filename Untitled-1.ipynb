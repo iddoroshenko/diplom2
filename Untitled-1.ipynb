{
 "cells": [
  {
   "cell_type": "code",
   "execution_count": 3,
   "metadata": {},
   "outputs": [],
   "source": [
    "import nanopq\n",
    "import numpy as np"
   ]
  },
  {
   "cell_type": "code",
   "execution_count": 42,
   "metadata": {},
   "outputs": [
    {
     "name": "stdout",
     "output_type": "stream",
     "text": [
      "M: 2, Ks: 256, metric : <class 'numpy.uint8'>, code_dtype: l2\n",
      "iter: 20, seed: 123\n",
      "Training the subspace: 0 / 2\n",
      "Training the subspace: 1 / 2\n",
      "Encoding the subspace: 0 / 2\n",
      "Encoding the subspace: 1 / 2\n"
     ]
    },
    {
     "ename": "AssertionError",
     "evalue": "input must be a single vector",
     "output_type": "error",
     "traceback": [
      "\u001b[1;31m---------------------------------------------------------------------------\u001b[0m",
      "\u001b[1;31mAssertionError\u001b[0m                            Traceback (most recent call last)",
      "Cell \u001b[1;32mIn[42], line 17\u001b[0m\n\u001b[0;32m     14\u001b[0m X_code \u001b[38;5;241m=\u001b[39m pq\u001b[38;5;241m.\u001b[39mencode(vectors)  \u001b[38;5;66;03m# (10000, 8) with dtype=np.uint8\u001b[39;00m\n\u001b[0;32m     16\u001b[0m \u001b[38;5;66;03m# Results: create a distance table online, and compute Asymmetric Distance to each PQ-code \u001b[39;00m\n\u001b[1;32m---> 17\u001b[0m dists \u001b[38;5;241m=\u001b[39m \u001b[43mpq\u001b[49m\u001b[38;5;241;43m.\u001b[39;49m\u001b[43mdtable\u001b[49m\u001b[43m(\u001b[49m\u001b[43mquery\u001b[49m\u001b[43m)\u001b[49m\u001b[38;5;241m.\u001b[39madist(X_code)  \u001b[38;5;66;03m# (10000, ) \u001b[39;00m\n",
      "File \u001b[1;32m~\\AppData\\Local\\Packages\\PythonSoftwareFoundation.Python.3.11_qbz5n2kfra8p0\\LocalCache\\local-packages\\Python311\\site-packages\\nanopq\\pq.py:192\u001b[0m, in \u001b[0;36mPQ.dtable\u001b[1;34m(self, query)\u001b[0m\n\u001b[0;32m    175\u001b[0m \u001b[38;5;250m\u001b[39m\u001b[38;5;124;03m\"\"\"Compute a distance table for a query vector.\u001b[39;00m\n\u001b[0;32m    176\u001b[0m \u001b[38;5;124;03mThe distances are computed by comparing each sub-vector of the query\u001b[39;00m\n\u001b[0;32m    177\u001b[0m \u001b[38;5;124;03mto the codewords for each sub-subspace.\u001b[39;00m\n\u001b[1;32m   (...)\u001b[0m\n\u001b[0;32m    189\u001b[0m \n\u001b[0;32m    190\u001b[0m \u001b[38;5;124;03m\"\"\"\u001b[39;00m\n\u001b[0;32m    191\u001b[0m \u001b[38;5;28;01massert\u001b[39;00m query\u001b[38;5;241m.\u001b[39mdtype \u001b[38;5;241m==\u001b[39m np\u001b[38;5;241m.\u001b[39mfloat32\n\u001b[1;32m--> 192\u001b[0m \u001b[38;5;28;01massert\u001b[39;00m query\u001b[38;5;241m.\u001b[39mndim \u001b[38;5;241m==\u001b[39m \u001b[38;5;241m1\u001b[39m, \u001b[38;5;124m\"\u001b[39m\u001b[38;5;124minput must be a single vector\u001b[39m\u001b[38;5;124m\"\u001b[39m\n\u001b[0;32m    193\u001b[0m (D,) \u001b[38;5;241m=\u001b[39m query\u001b[38;5;241m.\u001b[39mshape\n\u001b[0;32m    194\u001b[0m \u001b[38;5;28;01massert\u001b[39;00m D \u001b[38;5;241m==\u001b[39m \u001b[38;5;28mself\u001b[39m\u001b[38;5;241m.\u001b[39mDs \u001b[38;5;241m*\u001b[39m \u001b[38;5;28mself\u001b[39m\u001b[38;5;241m.\u001b[39mM, \u001b[38;5;124m\"\u001b[39m\u001b[38;5;124minput dimension must be Ds * M\u001b[39m\u001b[38;5;124m\"\u001b[39m\n",
      "\u001b[1;31mAssertionError\u001b[0m: input must be a single vector"
     ]
    }
   ],
   "source": [
    "random = np.random.default_rng(123)\n",
    "N, D = 1000000, 128\n",
    "vectors = random.random((N, D)).astype(np.float32)\n",
    "\n",
    "\n",
    "# Instantiate with M=8 sub-spaces\n",
    "pq = nanopq.PQ(M=2, Ks=256, verbose=True)\n",
    "# pq = nanopq.PQ(M=2, Ks=8, verbose=True)\n",
    "\n",
    "# Train codewords\n",
    "pq.fit(vectors)\n",
    "\n",
    "# Encode to PQ-codes\n",
    "X_code = pq.encode(vectors)  # (10000, 8) with dtype=np.uint8\n",
    "\n",
    "# Results: create a distance table online, and compute Asymmetric Distance to each PQ-code \n",
    "dists = pq.dtable(query).adist(X_code)  # (10000, ) "
   ]
  },
  {
   "cell_type": "code",
   "execution_count": 11,
   "metadata": {},
   "outputs": [
    {
     "data": {
      "text/plain": [
       "array([[ 91,  67],\n",
       "       [ 32, 205],\n",
       "       [167, 147],\n",
       "       ...,\n",
       "       [248, 245],\n",
       "       [ 67, 175],\n",
       "       [ 44, 195]], dtype=uint8)"
      ]
     },
     "execution_count": 11,
     "metadata": {},
     "output_type": "execute_result"
    }
   ],
   "source": [
    "X_code"
   ]
  },
  {
   "cell_type": "code",
   "execution_count": 14,
   "metadata": {},
   "outputs": [
    {
     "name": "stdout",
     "output_type": "stream",
     "text": [
      "Encoding the subspace: 0 / 2\n",
      "Encoding the subspace: 1 / 2\n"
     ]
    },
    {
     "data": {
      "text/plain": [
       "array([[181, 178]], dtype=uint8)"
      ]
     },
     "execution_count": 14,
     "metadata": {},
     "output_type": "execute_result"
    }
   ],
   "source": [
    "\n",
    "query = random.random((1, D)).astype(np.float32)  # a 128-dim query vector\n",
    "pq.encode(query)"
   ]
  },
  {
   "cell_type": "code",
   "execution_count": 15,
   "metadata": {},
   "outputs": [
    {
     "name": "stdout",
     "output_type": "stream",
     "text": [
      "Encoding the subspace: 0 / 2\n",
      "Encoding the subspace: 1 / 2\n"
     ]
    },
    {
     "data": {
      "text/plain": [
       "array([[181, 178]], dtype=uint8)"
      ]
     },
     "execution_count": 15,
     "metadata": {},
     "output_type": "execute_result"
    }
   ],
   "source": [
    "\n",
    "pq.encode(query)"
   ]
  },
  {
   "cell_type": "code",
   "execution_count": 37,
   "metadata": {},
   "outputs": [
    {
     "name": "stdout",
     "output_type": "stream",
     "text": [
      "Encoding the subspace: 0 / 2\n",
      "Encoding the subspace: 1 / 2\n"
     ]
    },
    {
     "data": {
      "text/plain": [
       "array([[146, 178]], dtype=uint8)"
      ]
     },
     "execution_count": 37,
     "metadata": {},
     "output_type": "execute_result"
    }
   ],
   "source": [
    "query[0] = query[0] + 0.01\n",
    "pq.encode(query)"
   ]
  },
  {
   "cell_type": "code",
   "execution_count": 47,
   "metadata": {},
   "outputs": [],
   "source": [
    "import collections\n",
    "\n",
    "d = collections.defaultdict(int)\n",
    "for x in X_code:\n",
    "    d[(x[0], x[1])] += 1\n",
    "d\n",
    "v = []\n",
    "for c in d:\n",
    "    v.append(d[c])"
   ]
  },
  {
   "cell_type": "code",
   "execution_count": 48,
   "metadata": {},
   "outputs": [
    {
     "data": {
      "text/plain": [
       "(array([2.000e+00, 1.300e+01, 4.400e+01, 9.700e+01, 2.600e+02, 5.560e+02,\n",
       "        1.140e+03, 1.925e+03, 0.000e+00, 2.938e+03, 3.984e+03, 5.235e+03,\n",
       "        6.079e+03, 6.595e+03, 6.770e+03, 6.279e+03, 5.718e+03, 0.000e+00,\n",
       "        4.810e+03, 3.903e+03, 3.020e+03, 2.108e+03, 1.496e+03, 1.053e+03,\n",
       "        5.970e+02, 4.090e+02, 0.000e+00, 2.210e+02, 1.310e+02, 7.800e+01,\n",
       "        3.600e+01, 2.300e+01, 9.000e+00, 4.000e+00, 1.000e+00, 2.000e+00]),\n",
       " array([ 2.        ,  2.88888889,  3.77777778,  4.66666667,  5.55555556,\n",
       "         6.44444444,  7.33333333,  8.22222222,  9.11111111, 10.        ,\n",
       "        10.88888889, 11.77777778, 12.66666667, 13.55555556, 14.44444444,\n",
       "        15.33333333, 16.22222222, 17.11111111, 18.        , 18.88888889,\n",
       "        19.77777778, 20.66666667, 21.55555556, 22.44444444, 23.33333333,\n",
       "        24.22222222, 25.11111111, 26.        , 26.88888889, 27.77777778,\n",
       "        28.66666667, 29.55555556, 30.44444444, 31.33333333, 32.22222222,\n",
       "        33.11111111, 34.        ]),\n",
       " <BarContainer object of 36 artists>)"
      ]
     },
     "execution_count": 48,
     "metadata": {},
     "output_type": "execute_result"
    },
    {
     "data": {
      "image/png": "[encoded data removed]",
      "text/plain": [
       "<Figure size 640x480 with 1 Axes>"
      ]
     },
     "metadata": {},
     "output_type": "display_data"
    }
   ],
   "source": [
    "import matplotlib.pyplot as plt\n",
    "\n",
    "# matplotlib histogram\n",
    "plt.hist(v, color = 'blue', edgecolor = 'black',\n",
    "         bins = int(180/5))"
   ]
  },
  {
   "cell_type": "code",
   "execution_count": 52,
   "metadata": {},
   "outputs": [
    {
     "data": {
      "text/plain": [
       "65536"
      ]
     },
     "execution_count": 52,
     "metadata": {},
     "output_type": "execute_result"
    }
   ],
   "source": [
    "len(d)"
   ]
  },
  {
   "cell_type": "code",
   "execution_count": null,
   "metadata": {},
   "outputs": [],
   "source": []
  }
 ],
 "metadata": {
  "kernelspec": {
   "display_name": "Python 3",
   "language": "python",
   "name": "python3"
  },
  "language_info": {
   "codemirror_mode": {
    "name": "ipython",
    "version": 3
   },
   "file_extension": ".py",
   "mimetype": "text/x-python",
   "name": "python",
   "nbconvert_exporter": "python",
   "pygments_lexer": "ipython3",
   "version": "3.11.9"
  }
 },
 "nbformat": 4,
 "nbformat_minor": 2
}
