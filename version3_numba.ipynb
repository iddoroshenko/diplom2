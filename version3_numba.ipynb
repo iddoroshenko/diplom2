{
 "cells": [
  {
   "cell_type": "code",
   "execution_count": 1,
   "metadata": {},
   "outputs": [],
   "source": [
    "import nanopq\n",
    "import numpy as np\n",
    "import networkx as nx\n",
    "from collections import defaultdict\n",
    "from tqdm import tqdm\n",
    "from sklearn.neighbors import NearestNeighbors\n",
    "from sklearn.datasets import make_blobs\n",
    "import sys\n",
    "import faiss\n",
    "from numba import njit\n",
    "\n",
    "from numba.types import Dict"
   ]
  },
  {
   "cell_type": "code",
   "execution_count": 16,
   "metadata": {},
   "outputs": [
    {
     "name": "stderr",
     "output_type": "stream",
     "text": [
      "Loading sift...done\n"
     ]
    }
   ],
   "source": [
    "N, D = 1000000, 128\n",
    "\n",
    "def ivecs_read(fname):\n",
    "    a = np.fromfile(fname, dtype='int32')\n",
    "    d = a[0]\n",
    "    return a.reshape(-1, d + 1)[:, 1:].copy()\n",
    "\n",
    "\n",
    "def fvecs_read(fname):\n",
    "    return ivecs_read(fname).view('float32')\n",
    "\n",
    "def load_sift():\n",
    "    print(\"Loading sift...\", end='', file=sys.stderr)\n",
    "    xb = fvecs_read(\"sift/sift_base.fvecs\")\n",
    "    xq = fvecs_read(\"sift/sift_query.fvecs\")\n",
    "    gt = ivecs_read(\"sift/sift_groundtruth.ivecs\")\n",
    "    print(\"done\", file=sys.stderr)\n",
    "\n",
    "    return xb, xq, gt\n",
    "\n",
    "def load_gist():\n",
    "    print(\"Loading gist...\", end='', file=sys.stderr)\n",
    "    xb = fvecs_read(\"gist/gist_base.fvecs\")\n",
    "    xq = fvecs_read(\"gist/gist_query.fvecs\")\n",
    "    gt = ivecs_read(\"gist/gist_groundtruth.ivecs\")\n",
    "    print(\"done\", file=sys.stderr)\n",
    "\n",
    "    return xb, xq, gt\n",
    "\n",
    "\n",
    "vectors_base, queries, gt = load_sift()\n",
    "vectors_base = vectors_base[:200]"
   ]
  },
  {
   "cell_type": "code",
   "execution_count": 17,
   "metadata": {},
   "outputs": [
    {
     "name": "stderr",
     "output_type": "stream",
     "text": [
      "100%|██████████| 200/200 [00:00<00:00, 50012.57it/s]\n"
     ]
    }
   ],
   "source": [
    "   \n",
    "def generate_graph(vectors, k_nearest):\n",
    "    index = faiss.IndexFlatL2(vectors.shape[1])  # длина вектора\n",
    "    index.add(vectors.astype('float32'))\n",
    "    _, indices = index.search(vectors.astype('float32'), k_nearest)\n",
    "    G = nx.Graph()\n",
    "    for i in tqdm(range(len(vectors)), total=len(vectors)):\n",
    "        for index in indices[i]:\n",
    "            if index != i:\n",
    "                G.add_edge(i, index)\n",
    "    return G\n",
    "\n",
    "\n",
    "k = 35    # количество ближайших соседей для связывания вершин\n",
    "\n",
    "\n",
    "# генерируем граф\n",
    "G = generate_graph(vectors_base, k)\n"
   ]
  },
  {
   "cell_type": "code",
   "execution_count": 18,
   "metadata": {},
   "outputs": [],
   "source": [
    "G_nodes = list(G.nodes())\n",
    "G_edges = dict()\n",
    "for node in G_nodes:\n",
    "    G_edges[node] = list(G.edges(node))\n"
   ]
  },
  {
   "cell_type": "code",
   "execution_count": 45,
   "metadata": {},
   "outputs": [
    {
     "ename": "TypingError",
     "evalue": "Failed in nopython mode pipeline (step: nopython frontend)\n\u001b[1m\u001b[1mUnknown attribute 'type' of type ListType[int32]\n\u001b[1m\nFile \"..\\Users\\Илья\\AppData\\Local\\Temp\\ipykernel_8388\\415294870.py\", line 10:\u001b[0m\n\u001b[1m<source missing, REPL/exec in use?>\u001b[0m\n\u001b[0m\n\u001b[0m\u001b[1mDuring: typing of get attribute at C:\\Users\\Илья\\AppData\\Local\\Temp\\ipykernel_8388\\415294870.py (10)\u001b[0m\n\u001b[1m\nFile \"..\\Users\\Илья\\AppData\\Local\\Temp\\ipykernel_8388\\415294870.py\", line 10:\u001b[0m\n\u001b[1m<source missing, REPL/exec in use?>\u001b[0m\n",
     "output_type": "error",
     "traceback": [
      "\u001b[1;31m---------------------------------------------------------------------------\u001b[0m",
      "\u001b[1;31mTypingError\u001b[0m                               Traceback (most recent call last)",
      "Cell \u001b[1;32mIn[45], line 24\u001b[0m\n\u001b[0;32m     21\u001b[0m         d[i] \u001b[38;5;241m=\u001b[39m l\n\u001b[0;32m     23\u001b[0m \u001b[38;5;66;03m# Создание и заполнение словаря в основной части кода\u001b[39;00m\n\u001b[1;32m---> 24\u001b[0m d \u001b[38;5;241m=\u001b[39m \u001b[43mcreate_dict_with_list_values\u001b[49m\u001b[43m(\u001b[49m\u001b[43m)\u001b[49m\n\u001b[0;32m     25\u001b[0m add_values_to_dict(d)\n\u001b[0;32m     27\u001b[0m \u001b[38;5;28;01mfor\u001b[39;00m key \u001b[38;5;129;01min\u001b[39;00m d\u001b[38;5;241m.\u001b[39mkeys():\n",
      "File \u001b[1;32m~\\AppData\\Local\\Packages\\PythonSoftwareFoundation.Python.3.11_qbz5n2kfra8p0\\LocalCache\\local-packages\\Python311\\site-packages\\numba\\core\\dispatcher.py:468\u001b[0m, in \u001b[0;36m_DispatcherBase._compile_for_args\u001b[1;34m(self, *args, **kws)\u001b[0m\n\u001b[0;32m    464\u001b[0m         msg \u001b[38;5;241m=\u001b[39m (\u001b[38;5;124mf\u001b[39m\u001b[38;5;124m\"\u001b[39m\u001b[38;5;132;01m{\u001b[39;00m\u001b[38;5;28mstr\u001b[39m(e)\u001b[38;5;241m.\u001b[39mrstrip()\u001b[38;5;132;01m}\u001b[39;00m\u001b[38;5;124m \u001b[39m\u001b[38;5;130;01m\\n\u001b[39;00m\u001b[38;5;130;01m\\n\u001b[39;00m\u001b[38;5;124mThis error may have been caused \u001b[39m\u001b[38;5;124m\"\u001b[39m\n\u001b[0;32m    465\u001b[0m                \u001b[38;5;124mf\u001b[39m\u001b[38;5;124m\"\u001b[39m\u001b[38;5;124mby the following argument(s):\u001b[39m\u001b[38;5;130;01m\\n\u001b[39;00m\u001b[38;5;132;01m{\u001b[39;00margs_str\u001b[38;5;132;01m}\u001b[39;00m\u001b[38;5;130;01m\\n\u001b[39;00m\u001b[38;5;124m\"\u001b[39m)\n\u001b[0;32m    466\u001b[0m         e\u001b[38;5;241m.\u001b[39mpatch_message(msg)\n\u001b[1;32m--> 468\u001b[0m     \u001b[43merror_rewrite\u001b[49m\u001b[43m(\u001b[49m\u001b[43me\u001b[49m\u001b[43m,\u001b[49m\u001b[43m \u001b[49m\u001b[38;5;124;43m'\u001b[39;49m\u001b[38;5;124;43mtyping\u001b[39;49m\u001b[38;5;124;43m'\u001b[39;49m\u001b[43m)\u001b[49m\n\u001b[0;32m    469\u001b[0m \u001b[38;5;28;01mexcept\u001b[39;00m errors\u001b[38;5;241m.\u001b[39mUnsupportedError \u001b[38;5;28;01mas\u001b[39;00m e:\n\u001b[0;32m    470\u001b[0m     \u001b[38;5;66;03m# Something unsupported is present in the user code, add help info\u001b[39;00m\n\u001b[0;32m    471\u001b[0m     error_rewrite(e, \u001b[38;5;124m'\u001b[39m\u001b[38;5;124munsupported_error\u001b[39m\u001b[38;5;124m'\u001b[39m)\n",
      "File \u001b[1;32m~\\AppData\\Local\\Packages\\PythonSoftwareFoundation.Python.3.11_qbz5n2kfra8p0\\LocalCache\\local-packages\\Python311\\site-packages\\numba\\core\\dispatcher.py:409\u001b[0m, in \u001b[0;36m_DispatcherBase._compile_for_args.<locals>.error_rewrite\u001b[1;34m(e, issue_type)\u001b[0m\n\u001b[0;32m    407\u001b[0m     \u001b[38;5;28;01mraise\u001b[39;00m e\n\u001b[0;32m    408\u001b[0m \u001b[38;5;28;01melse\u001b[39;00m:\n\u001b[1;32m--> 409\u001b[0m     \u001b[38;5;28;01mraise\u001b[39;00m e\u001b[38;5;241m.\u001b[39mwith_traceback(\u001b[38;5;28;01mNone\u001b[39;00m)\n",
      "\u001b[1;31mTypingError\u001b[0m: Failed in nopython mode pipeline (step: nopython frontend)\n\u001b[1m\u001b[1mUnknown attribute 'type' of type ListType[int32]\n\u001b[1m\nFile \"..\\Users\\Илья\\AppData\\Local\\Temp\\ipykernel_8388\\415294870.py\", line 10:\u001b[0m\n\u001b[1m<source missing, REPL/exec in use?>\u001b[0m\n\u001b[0m\n\u001b[0m\u001b[1mDuring: typing of get attribute at C:\\Users\\Илья\\AppData\\Local\\Temp\\ipykernel_8388\\415294870.py (10)\u001b[0m\n\u001b[1m\nFile \"..\\Users\\Илья\\AppData\\Local\\Temp\\ipykernel_8388\\415294870.py\", line 10:\u001b[0m\n\u001b[1m<source missing, REPL/exec in use?>\u001b[0m\n"
     ]
    }
   ],
   "source": [
    "\n",
    "import numba\n",
    "from numba import int32\n",
    "from numba.typed import Dict, List\n",
    "\n",
    "@numba.njit\n",
    "def create_dict_with_list_values():\n",
    "    # Создаем пустой словарь с типами ключей и значений\n",
    "    d = Dict.empty(\n",
    "        key_type=int32,\n",
    "        value_type=List.empty_list(int32).type\n",
    "    )\n",
    "    \n",
    "    return d\n",
    "\n",
    "@numba.njit\n",
    "def add_values_to_dict(d):\n",
    "    for i in range(5):\n",
    "        l = List.empty_list(int32)\n",
    "        for j in range(i, i + 3):\n",
    "            l.append(j)\n",
    "        d[i] = l\n",
    "\n",
    "# Создание и заполнение словаря в основной части кода\n",
    "d = create_dict_with_list_values()\n",
    "add_values_to_dict(d)\n",
    "\n",
    "for key in d.keys():\n",
    "    print(f\"{key}: {list(d[key])}\")"
   ]
  },
  {
   "cell_type": "code",
   "execution_count": 19,
   "metadata": {},
   "outputs": [
    {
     "data": {
      "text/plain": [
       "[0,\n",
       " 2,\n",
       " 6,\n",
       " 140,\n",
       " 114,\n",
       " 118,\n",
       " 4,\n",
       " 73,\n",
       " 104,\n",
       " 74,\n",
       " 8,\n",
       " 18,\n",
       " 78,\n",
       " 10,\n",
       " 20,\n",
       " 57,\n",
       " 29,\n",
       " 16,\n",
       " 161,\n",
       " 110,\n",
       " 61,\n",
       " 105,\n",
       " 165,\n",
       " 181,\n",
       " 180,\n",
       " 70,\n",
       " 59,\n",
       " 112,\n",
       " 158,\n",
       " 86,\n",
       " 12,\n",
       " 79,\n",
       " 152,\n",
       " 75,\n",
       " 160,\n",
       " 1,\n",
       " 3,\n",
       " 14,\n",
       " 7,\n",
       " 162,\n",
       " 182,\n",
       " 5,\n",
       " 115,\n",
       " 85,\n",
       " 117,\n",
       " 195,\n",
       " 62,\n",
       " 119,\n",
       " 66,\n",
       " 9,\n",
       " 30,\n",
       " 166,\n",
       " 19,\n",
       " 11,\n",
       " 51,\n",
       " 50,\n",
       " 21,\n",
       " 103,\n",
       " 189,\n",
       " 183,\n",
       " 54,\n",
       " 141,\n",
       " 167,\n",
       " 60,\n",
       " 178,\n",
       " 13,\n",
       " 88,\n",
       " 71,\n",
       " 91,\n",
       " 55,\n",
       " 23,\n",
       " 101,\n",
       " 175,\n",
       " 58,\n",
       " 113,\n",
       " 168,\n",
       " 31,\n",
       " 196,\n",
       " 159,\n",
       " 17,\n",
       " 69,\n",
       " 28,\n",
       " 52,\n",
       " 77,\n",
       " 56,\n",
       " 134,\n",
       " 92,\n",
       " 116,\n",
       " 186,\n",
       " 15,\n",
       " 72,\n",
       " 100,\n",
       " 82,\n",
       " 198,\n",
       " 27,\n",
       " 143,\n",
       " 32,\n",
       " 111,\n",
       " 153,\n",
       " 163,\n",
       " 89,\n",
       " 22,\n",
       " 26,\n",
       " 43,\n",
       " 76,\n",
       " 145,\n",
       " 123,\n",
       " 102,\n",
       " 146,\n",
       " 199,\n",
       " 124,\n",
       " 154,\n",
       " 97,\n",
       " 107,\n",
       " 96,\n",
       " 131,\n",
       " 93,\n",
       " 126,\n",
       " 106,\n",
       " 190,\n",
       " 109,\n",
       " 121,\n",
       " 144,\n",
       " 122,\n",
       " 155,\n",
       " 194,\n",
       " 172,\n",
       " 108,\n",
       " 127,\n",
       " 169,\n",
       " 132,\n",
       " 120,\n",
       " 171,\n",
       " 147,\n",
       " 125,\n",
       " 137,\n",
       " 24,\n",
       " 128,\n",
       " 184,\n",
       " 130,\n",
       " 150,\n",
       " 148,\n",
       " 170,\n",
       " 139,\n",
       " 177,\n",
       " 192,\n",
       " 156,\n",
       " 173,\n",
       " 135,\n",
       " 83,\n",
       " 133,\n",
       " 197,\n",
       " 94,\n",
       " 185,\n",
       " 25,\n",
       " 42,\n",
       " 149,\n",
       " 84,\n",
       " 129,\n",
       " 174,\n",
       " 136,\n",
       " 193,\n",
       " 188,\n",
       " 151,\n",
       " 176,\n",
       " 157,\n",
       " 64,\n",
       " 164,\n",
       " 53,\n",
       " 33,\n",
       " 90,\n",
       " 34,\n",
       " 40,\n",
       " 46,\n",
       " 36,\n",
       " 44,\n",
       " 80,\n",
       " 98,\n",
       " 48,\n",
       " 67,\n",
       " 138,\n",
       " 191,\n",
       " 87,\n",
       " 35,\n",
       " 41,\n",
       " 38,\n",
       " 47,\n",
       " 39,\n",
       " 45,\n",
       " 99,\n",
       " 49,\n",
       " 81,\n",
       " 37,\n",
       " 68,\n",
       " 95,\n",
       " 63,\n",
       " 187,\n",
       " 179,\n",
       " 65,\n",
       " 142]"
      ]
     },
     "execution_count": 19,
     "metadata": {},
     "output_type": "execute_result"
    }
   ],
   "source": [
    "G_nodes"
   ]
  },
  {
   "cell_type": "code",
   "execution_count": 37,
   "metadata": {},
   "outputs": [],
   "source": [
    "pq = nanopq.PQ(M=2, Ks=128, verbose=False)\n",
    "\n",
    "pq.fit(vectors_base)\n",
    "X_code = pq.encode(vectors_base)"
   ]
  },
  {
   "cell_type": "code",
   "execution_count": 38,
   "metadata": {},
   "outputs": [],
   "source": [
    "indexes_map = defaultdict(list)\n",
    "\n",
    "for i in range(len(X_code)):\n",
    "    indexes_map[(X_code[i][0], X_code[i][1])].append(i)"
   ]
  },
  {
   "cell_type": "code",
   "execution_count": 41,
   "metadata": {},
   "outputs": [],
   "source": [
    "indexes_map = dict()\n",
    "\n",
    "for i in range(len(X_code)):\n",
    "    key = (X_code[i][0], X_code[i][1])\n",
    "    if key not in indexes_map:\n",
    "        indexes_map[key] = list()\n",
    "    indexes_map[key].append(i)"
   ]
  },
  {
   "cell_type": "code",
   "execution_count": 42,
   "metadata": {},
   "outputs": [],
   "source": [
    "@njit\n",
    "def find_nearest(query, query_mi, G_edges=G_edges, G_nodes=G_nodes, indexes_map=indexes_map, vectors=vectors_base):\n",
    "    #query_mi = pq.encode(query)\n",
    "    query_mi_neighbours = indexes_map[(query_mi[0][0], query_mi[0][1])]\n",
    "    if len(query_mi_neighbours) > 0:\n",
    "        best_node = query_mi_neighbours[0]\n",
    "    else:\n",
    "        best_node = np.random.choice(G_nodes)\n",
    "    best_dist = np.linalg.norm(vectors[best_node] - query)\n",
    "    queue = []\n",
    "    queue.append(best_node)\n",
    "    was = set()\n",
    "    was.add(best_node)\n",
    "    while len(queue) > 0:\n",
    "        node = queue.pop(0)\n",
    "        for edge in G_edges[node]:\n",
    "            dst = edge[1]\n",
    "            if dst in was:\n",
    "                continue\n",
    "            was.add(dst)\n",
    "            dist = np.linalg.norm(vectors[dst] - query)\n",
    "            if dist < best_dist:\n",
    "                queue.append(dst)\n",
    "                best_node = dst\n",
    "                best_dist = dist\n",
    "    return best_dist, best_node\n"
   ]
  },
  {
   "cell_type": "code",
   "execution_count": 23,
   "metadata": {},
   "outputs": [
    {
     "name": "stdout",
     "output_type": "stream",
     "text": [
      "0\n",
      "200\n"
     ]
    }
   ],
   "source": [
    "index = faiss.IndexHNSWFlat(D, 32)\n",
    "index.hnsw.efConstruction = 40\n",
    "\n",
    "index.train(vectors_base)\n",
    "print(index.ntotal)   # 0\n",
    "index.add(vectors_base)\n",
    "print(index.ntotal)   # 1000000"
   ]
  },
  {
   "cell_type": "code",
   "execution_count": 43,
   "metadata": {},
   "outputs": [
    {
     "name": "stderr",
     "output_type": "stream",
     "text": [
      "  0%|          | 0/10000 [00:00<?, ?it/s]\n"
     ]
    },
    {
     "ename": "TypingError",
     "evalue": "Failed in nopython mode pipeline (step: nopython frontend)\nInternal error at <numba.core.typeinfer.ArgConstraint object at 0x000002482D611250>.\n\u001b[1m\u001b[1m\u001b[1mCannot determine Numba type of <class 'dict'>\u001b[0m\u001b[0m\n\u001b[0m\u001b[1mDuring: typing of argument at C:\\Users\\Илья\\AppData\\Local\\Temp\\ipykernel_8388\\4245927669.py (1)\u001b[0m\nEnable logging at debug level for details.\n\u001b[1m\nFile \"..\\Users\\Илья\\AppData\\Local\\Temp\\ipykernel_8388\\4245927669.py\", line 1:\u001b[0m\n\u001b[1m<source missing, REPL/exec in use?>\u001b[0m \n\nThis error may have been caused by the following argument(s):\n- argument 2: \u001b[1mCannot determine Numba type of <class 'dict'>\u001b[0m\n- argument 4: \u001b[1mCannot determine Numba type of <class 'dict'>\u001b[0m\n",
     "output_type": "error",
     "traceback": [
      "\u001b[1;31m---------------------------------------------------------------------------\u001b[0m",
      "\u001b[1;31mTypingError\u001b[0m                               Traceback (most recent call last)",
      "Cell \u001b[1;32mIn[43], line 18\u001b[0m\n\u001b[0;32m     16\u001b[0m     query \u001b[38;5;241m=\u001b[39m np\u001b[38;5;241m.\u001b[39marray([queries[test_number]])\n\u001b[0;32m     17\u001b[0m     query_mi \u001b[38;5;241m=\u001b[39m pq\u001b[38;5;241m.\u001b[39mencode(query)\n\u001b[1;32m---> 18\u001b[0m     d1, i1 \u001b[38;5;241m=\u001b[39m \u001b[43mfind_nearest\u001b[49m\u001b[43m(\u001b[49m\u001b[43mquery\u001b[49m\u001b[43m,\u001b[49m\u001b[43m \u001b[49m\u001b[43mquery_mi\u001b[49m\u001b[43m)\u001b[49m\n\u001b[0;32m     19\u001b[0m     result_my\u001b[38;5;241m.\u001b[39mappend([d1, i1])\n\u001b[0;32m     21\u001b[0m end \u001b[38;5;241m=\u001b[39m time\u001b[38;5;241m.\u001b[39mtime()\n",
      "File \u001b[1;32m~\\AppData\\Local\\Packages\\PythonSoftwareFoundation.Python.3.11_qbz5n2kfra8p0\\LocalCache\\local-packages\\Python311\\site-packages\\numba\\core\\dispatcher.py:468\u001b[0m, in \u001b[0;36m_DispatcherBase._compile_for_args\u001b[1;34m(self, *args, **kws)\u001b[0m\n\u001b[0;32m    464\u001b[0m         msg \u001b[38;5;241m=\u001b[39m (\u001b[38;5;124mf\u001b[39m\u001b[38;5;124m\"\u001b[39m\u001b[38;5;132;01m{\u001b[39;00m\u001b[38;5;28mstr\u001b[39m(e)\u001b[38;5;241m.\u001b[39mrstrip()\u001b[38;5;132;01m}\u001b[39;00m\u001b[38;5;124m \u001b[39m\u001b[38;5;130;01m\\n\u001b[39;00m\u001b[38;5;130;01m\\n\u001b[39;00m\u001b[38;5;124mThis error may have been caused \u001b[39m\u001b[38;5;124m\"\u001b[39m\n\u001b[0;32m    465\u001b[0m                \u001b[38;5;124mf\u001b[39m\u001b[38;5;124m\"\u001b[39m\u001b[38;5;124mby the following argument(s):\u001b[39m\u001b[38;5;130;01m\\n\u001b[39;00m\u001b[38;5;132;01m{\u001b[39;00margs_str\u001b[38;5;132;01m}\u001b[39;00m\u001b[38;5;130;01m\\n\u001b[39;00m\u001b[38;5;124m\"\u001b[39m)\n\u001b[0;32m    466\u001b[0m         e\u001b[38;5;241m.\u001b[39mpatch_message(msg)\n\u001b[1;32m--> 468\u001b[0m     \u001b[43merror_rewrite\u001b[49m\u001b[43m(\u001b[49m\u001b[43me\u001b[49m\u001b[43m,\u001b[49m\u001b[43m \u001b[49m\u001b[38;5;124;43m'\u001b[39;49m\u001b[38;5;124;43mtyping\u001b[39;49m\u001b[38;5;124;43m'\u001b[39;49m\u001b[43m)\u001b[49m\n\u001b[0;32m    469\u001b[0m \u001b[38;5;28;01mexcept\u001b[39;00m errors\u001b[38;5;241m.\u001b[39mUnsupportedError \u001b[38;5;28;01mas\u001b[39;00m e:\n\u001b[0;32m    470\u001b[0m     \u001b[38;5;66;03m# Something unsupported is present in the user code, add help info\u001b[39;00m\n\u001b[0;32m    471\u001b[0m     error_rewrite(e, \u001b[38;5;124m'\u001b[39m\u001b[38;5;124munsupported_error\u001b[39m\u001b[38;5;124m'\u001b[39m)\n",
      "File \u001b[1;32m~\\AppData\\Local\\Packages\\PythonSoftwareFoundation.Python.3.11_qbz5n2kfra8p0\\LocalCache\\local-packages\\Python311\\site-packages\\numba\\core\\dispatcher.py:409\u001b[0m, in \u001b[0;36m_DispatcherBase._compile_for_args.<locals>.error_rewrite\u001b[1;34m(e, issue_type)\u001b[0m\n\u001b[0;32m    407\u001b[0m     \u001b[38;5;28;01mraise\u001b[39;00m e\n\u001b[0;32m    408\u001b[0m \u001b[38;5;28;01melse\u001b[39;00m:\n\u001b[1;32m--> 409\u001b[0m     \u001b[38;5;28;01mraise\u001b[39;00m e\u001b[38;5;241m.\u001b[39mwith_traceback(\u001b[38;5;28;01mNone\u001b[39;00m)\n",
      "\u001b[1;31mTypingError\u001b[0m: Failed in nopython mode pipeline (step: nopython frontend)\nInternal error at <numba.core.typeinfer.ArgConstraint object at 0x000002482D611250>.\n\u001b[1m\u001b[1m\u001b[1mCannot determine Numba type of <class 'dict'>\u001b[0m\u001b[0m\n\u001b[0m\u001b[1mDuring: typing of argument at C:\\Users\\Илья\\AppData\\Local\\Temp\\ipykernel_8388\\4245927669.py (1)\u001b[0m\nEnable logging at debug level for details.\n\u001b[1m\nFile \"..\\Users\\Илья\\AppData\\Local\\Temp\\ipykernel_8388\\4245927669.py\", line 1:\u001b[0m\n\u001b[1m<source missing, REPL/exec in use?>\u001b[0m \n\nThis error may have been caused by the following argument(s):\n- argument 2: \u001b[1mCannot determine Numba type of <class 'dict'>\u001b[0m\n- argument 4: \u001b[1mCannot determine Numba type of <class 'dict'>\u001b[0m\n"
     ]
    }
   ],
   "source": [
    "import time\n",
    "\n",
    "dist_better_my = 0\n",
    "dist_better_hnsw = 0\n",
    "dist_equal = 0\n",
    "\n",
    "gt_good_my = 0\n",
    "gt_good_hnsw = 0\n",
    "\n",
    "result_my = []\n",
    "result_hnsw = []\n",
    "\n",
    "start = time.time()\n",
    "\n",
    "for test_number in tqdm(range(len(queries))):\n",
    "    query = np.array([queries[test_number]])\n",
    "    query_mi = pq.encode(query)\n",
    "    d1, i1 = find_nearest(query, query_mi)\n",
    "    result_my.append([d1, i1])\n",
    "\n",
    "end = time.time()\n",
    "\n",
    "print(\"my time:\", end-start)\n",
    "start = time.time()\n",
    "for test_number in range(len(queries)):\n",
    "    d2, i2 = index.search(np.array([queries[test_number]]), 1)\n",
    "    d2 = np.linalg.norm(vectors_base[i2[0][0]] - queries[test_number])\n",
    "    result_hnsw.append([d2, i2[0][0]])\n",
    "end = time.time()\n",
    "print(\"hnsw time:\", end-start)\n",
    "\n",
    "for test_number in range(len(queries)):\n",
    "    d1, i1 = result_my[test_number][0], result_my[test_number][1]\n",
    "    gt_good_my += gt[test_number][0] == i1\n",
    "    \n",
    "    d2, i2 = result_hnsw[test_number][0], result_hnsw[test_number][1]\n",
    "    gt_good_hnsw += gt[test_number][0] == i2\n",
    "    \n",
    "    dist_better_my += d1 < d2\n",
    "    dist_equal += d1 == d2\n",
    "    dist_better_hnsw += d1 > d2\n",
    "print(dist_better_my, dist_equal, dist_better_hnsw)\n",
    "print(gt_good_my, gt_good_hnsw)"
   ]
  },
  {
   "cell_type": "markdown",
   "metadata": {},
   "source": [
    "fi\n",
    "\n",
    "my time: 5.14903450012207\n",
    "\n",
    "hnsw time: 2.6712119579315186\n",
    "\n",
    "157 4900 4943\n",
    "\n",
    "4839 9092"
   ]
  },
  {
   "cell_type": "markdown",
   "metadata": {},
   "source": [
    "base\n",
    "\n",
    "my time: 18.093042612075806\n",
    "\n",
    "hnsw time: 2.7155497074127197\n",
    "\n",
    "353 6644 3003\n",
    "\n",
    "6700 9092"
   ]
  },
  {
   "cell_type": "markdown",
   "metadata": {},
   "source": [
    "\n",
    "v2 \n",
    "\n",
    "my time: 14.344702243804932\n",
    "\n",
    "hnsw time: 2.6752655506134033\n",
    "\n",
    "273 6232 3495\n",
    "\n",
    "6215 9092"
   ]
  },
  {
   "cell_type": "code",
   "execution_count": 164,
   "metadata": {},
   "outputs": [
    {
     "name": "stdout",
     "output_type": "stream",
     "text": [
      "(173.01733, 337194)\n",
      "4490\n",
      "[  4490   4457 440896 105025  30046 214449 214475 234950 337194 566609\n",
      " 554601 559990 497354 337027 306259  59773 365266 776961 261517  30205\n",
      " 498443 104882 293784 787655 187642 161744  94526 290612 190535 497211\n",
      " 104971 554692 321611 554617 523702  99066 151645 501915 710368 525244\n",
      " 261426 570662  94528 114300 278717 190529 366228 337168 365353 312454\n",
      " 776967 825736 563905 547063 357803  51303 122700 805687 776965 152427\n",
      " 498491 869260 124074 106313 534926  42882 337012 122254 494271 825636\n",
      "  94532 151174 428246 790898  51399 365529 674780 365285 560050  52746\n",
      " 526223 295102 122033 292386 151148 337470 689876 776959 385048 302199\n",
      " 525423 160586 427618 852710 152142 905096  90283 571084 305080 114777]\n"
     ]
    }
   ],
   "source": [
    "T = 21\n",
    "print(find_nearest(G, np.array([queries[T]])))\n",
    "print(index.search(np.array([queries[T]]), 1)[1][0][0])\n",
    "print(gt[T])"
   ]
  },
  {
   "cell_type": "code",
   "execution_count": 165,
   "metadata": {},
   "outputs": [
    {
     "data": {
      "text/plain": [
       "array([[85,  9]], dtype=uint8)"
      ]
     },
     "execution_count": 165,
     "metadata": {},
     "output_type": "execute_result"
    }
   ],
   "source": [
    "pq.encode(np.array([queries[T]]))\n"
   ]
  },
  {
   "cell_type": "code",
   "execution_count": 166,
   "metadata": {},
   "outputs": [
    {
     "data": {
      "text/plain": [
       "array([[85,  9]], dtype=uint8)"
      ]
     },
     "execution_count": 166,
     "metadata": {},
     "output_type": "execute_result"
    }
   ],
   "source": [
    "pq.encode(np.array([vectors_base[337194]]))\n"
   ]
  },
  {
   "cell_type": "code",
   "execution_count": 167,
   "metadata": {},
   "outputs": [
    {
     "data": {
      "text/plain": [
       "array([[24,  9]], dtype=uint8)"
      ]
     },
     "execution_count": 167,
     "metadata": {},
     "output_type": "execute_result"
    }
   ],
   "source": [
    "pq.encode(np.array([vectors_base[4490]]))\n"
   ]
  },
  {
   "cell_type": "code",
   "execution_count": null,
   "metadata": {},
   "outputs": [],
   "source": []
  }
 ],
 "metadata": {
  "kernelspec": {
   "display_name": "Python 3",
   "language": "python",
   "name": "python3"
  },
  "language_info": {
   "codemirror_mode": {
    "name": "ipython",
    "version": 3
   },
   "file_extension": ".py",
   "mimetype": "text/x-python",
   "name": "python",
   "nbconvert_exporter": "python",
   "pygments_lexer": "ipython3",
   "version": "3.11.9"
  }
 },
 "nbformat": 4,
 "nbformat_minor": 2
}
